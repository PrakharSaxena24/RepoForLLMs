{
 "cells": [
  {
   "cell_type": "code",
   "execution_count": null,
   "metadata": {},
   "outputs": [],
   "source": [
    "import os\n",
    "os.environ[\"CUDA_VISIBLE_DEVICES\"]=\"0\" #use this accordign to your GPU setup\n",
    "import os\n",
    "import torch\n",
    "import transformers\n",
    "from transformers import AutoTokenizer, AutoModelForCausalLM\n",
    "from peft import  LoraConfig, get_peft_model, PeftModel\n"
   ]
  },
  {
   "cell_type": "code",
   "execution_count": null,
   "metadata": {},
   "outputs": [],
   "source": [
    "seed = 42\n",
    "torch.manual_seed(seed)\n",
    "torch.cuda.manual_seed_all(seed)\n",
    "\n",
    "# Use teh base model whihc you trained below, can be llama, mixtral etc\n",
    "model_name = \"mistralai/Mistral-7B-Instruct-v0.2\"\n",
    "\n",
    "tokenizer = AutoTokenizer.from_pretrained(model_name)\n",
    "model = AutoModelForCausalLM.from_pretrained(\n",
    "   model_name,\n",
    "    load_in_8bit=True,\n",
    "    device_map=\"auto\",\n",
    "    torch_dtype=torch.float16\n",
    ")\n",
    "print(model)\n",
    "\n",
    " # path to the checkpoint folder, check your path as the checkpoint number might be different\n",
    "lora =  \"./mistral-lora-instruct-shapeskeare/checkpoint-32/\"\n",
    "\n",
    "model = PeftModel.from_pretrained(model, lora)\n",
    "\n"
   ]
  },
  {
   "cell_type": "code",
   "execution_count": null,
   "metadata": {},
   "outputs": [],
   "source": [
    "def generate_prompt(user_query):  #The prompt format is taken from the official Mistral huggingface page, yformat for each model might differ\n",
    "    return \"[INST]\" + user_query + \"[/INST]\" \n",
    "\n",
    "def evaluate(question):\n",
    "\n",
    "    prompt= generate_prompt(question)\n",
    "    inputs = tokenizer(prompt, add_special_tokens=False, return_tensors=\"pt\")\n",
    "    input_ids = inputs[\"input_ids\"].cuda()\n",
    "\n",
    "    with torch.no_grad():\n",
    "        gen_tokens = model.generate(\n",
    "             input_ids=input_ids,\n",
    "            attention_mask=inputs[\"attention_mask\"].cuda(),\n",
    "           max_new_tokens=512,\n",
    "            do_sample=True,\n",
    "            temperature=0.8,\n",
    "            top_p=0.95,\n",
    "            eos_token_id=2,\n",
    "                )\n",
    "\n",
    "    out=tokenizer.decode(gen_tokens[0],\n",
    "        skip_special_tokens=False)\n",
    "\n",
    "    return out\n",
    "\n"
   ]
  },
  {
   "cell_type": "code",
   "execution_count": null,
   "metadata": {},
   "outputs": [],
   "source": [
    "questions_eval = [\n",
    "    \"What is your favorite color?\",\n",
    "    \"How many continents are there in the world?\",\n",
    "    \"What year was the first iPhone released?\",\n",
    "    \"What is the capital of France?\",\n",
    "    \"Who wrote 'To Kill a Mockingbird'?\",\n",
    "    \"What gas do plants breathe in that humans and animals breathe out?\",\n",
    "    \"How many planets are in our solar system?\",\n",
    "    \"What is the boiling point of water?\",\n",
    "    \"What is the largest ocean on Earth?\",\n",
    "    \"Who is the current president of the United States?\"\n",
    "]\n",
    "\n",
    "\n",
    "for question in  questions_eval:\n",
    "    a=evaluate(question)\n",
    "    print(a)\n",
    "    print()\n",
    "    print(\"-\"*50)"
   ]
  },
  {
   "cell_type": "code",
   "execution_count": null,
   "metadata": {},
   "outputs": [],
   "source": []
  }
 ],
 "metadata": {
  "kernelspec": {
   "display_name": "repe",
   "language": "python",
   "name": "python3"
  },
  "language_info": {
   "codemirror_mode": {
    "name": "ipython",
    "version": 3
   },
   "file_extension": ".py",
   "mimetype": "text/x-python",
   "name": "python",
   "nbconvert_exporter": "python",
   "pygments_lexer": "ipython3",
   "version": "3.10.14"
  }
 },
 "nbformat": 4,
 "nbformat_minor": 2
}
